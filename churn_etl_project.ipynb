{
 "cells": [
  {
   "cell_type": "markdown",
   "metadata": {
    "id": "XiTIhGt8sCni"
   },
   "source": [
    "## ETL(Extract, Transform, Load) + Data Cleaning"
   ]
  },
  {
   "cell_type": "code",
   "execution_count": null,
   "metadata": {
    "id": "qdA4UmApM1bx"
   },
   "outputs": [],
   "source": [
    "from pyspark.sql import SparkSession\n",
    "from pyspark.sql.functions import col, when"
   ]
  },
  {
   "cell_type": "markdown",
   "metadata": {
    "id": "2kMGqYq0OOMH"
   },
   "source": [
    "### Start SparkSession"
   ]
  },
  {
   "cell_type": "code",
   "execution_count": null,
   "metadata": {
    "id": "ODQ_oSHzOQ6g"
   },
   "outputs": [],
   "source": [
    "spark = SparkSession.builder.appName(\"ChurnETL\").getOrCreate()"
   ]
  },
  {
   "cell_type": "markdown",
   "metadata": {
    "id": "NcZSbbovOYr5"
   },
   "source": [
    "### Load the dataset"
   ]
  },
  {
   "cell_type": "code",
   "execution_count": null,
   "metadata": {
    "id": "gU-jesdnOT8H"
   },
   "outputs": [],
   "source": [
    "df = spark.read.csv(\"WA_Fn-UseC_-Telco-Customer-Churn.csv\", header=True, inferSchema=True)"
   ]
  },
  {
   "cell_type": "markdown",
   "metadata": {
    "id": "QJJQyiYJOhtJ"
   },
   "source": [
    "### Clean TotalCharges column"
   ]
  },
  {
   "cell_type": "code",
   "execution_count": null,
   "metadata": {
    "id": "bQ6fvD7nOiyw"
   },
   "outputs": [],
   "source": [
    "df = df.withColumn(\"TotalCharges\", when(col(\"TotalCharges\") == \" \", None).otherwise(col(\"TotalCharges\").cast(\"float\")))\n",
    "df = df.dropna()"
   ]
  },
  {
   "cell_type": "markdown",
   "metadata": {
    "id": "1dmmbytgOlWY"
   },
   "source": [
    "### Create binary label column from Churn"
   ]
  },
  {
   "cell_type": "code",
   "execution_count": null,
   "metadata": {
    "id": "2btXNIqUOpCE"
   },
   "outputs": [],
   "source": [
    "df = df.withColumn(\"label\", when(col(\"Churn\") == \"Yes\", 1).otherwise(0))"
   ]
  },
  {
   "cell_type": "markdown",
   "metadata": {
    "id": "jkKHbUrrOsr4"
   },
   "source": [
    "### Drop irrelevant columns"
   ]
  },
  {
   "cell_type": "code",
   "execution_count": null,
   "metadata": {
    "id": "pTv8WgYrOtpA"
   },
   "outputs": [],
   "source": [
    "df = df.drop(\"customerID\", \"Churn\")"
   ]
  },
  {
   "cell_type": "markdown",
   "metadata": {
    "id": "EI5F_kPrOxh1"
   },
   "source": [
    "### Save cleaned DataFrame to Parquet"
   ]
  },
  {
   "cell_type": "code",
   "execution_count": null,
   "metadata": {
    "id": "-ktu8oY7Ovff"
   },
   "outputs": [],
   "source": [
    "df.write.mode(\"overwrite\").parquet(\"cleaned_churn.parquet\")"
   ]
  },
  {
   "cell_type": "markdown",
   "metadata": {
    "id": "oyLw9Ch_O25F"
   },
   "source": [
    "### Show"
   ]
  },
  {
   "cell_type": "code",
   "execution_count": null,
   "metadata": {
    "colab": {
     "base_uri": "https://localhost:8080/"
    },
    "executionInfo": {
     "elapsed": 154,
     "status": "ok",
     "timestamp": 1746990040197,
     "user": {
      "displayName": "berat uzun",
      "userId": "08837626989305024116"
     },
     "user_tz": -180
    },
    "id": "SV4L00x_O0fr",
    "outputId": "298d95a8-991b-4aca-f750-efb820d16e29"
   },
   "outputs": [
    {
     "name": "stdout",
     "output_type": "stream",
     "text": [
      "+------+-------------+-------+----------+------+------------+----------------+---------------+--------------+------------+----------------+-----------+-----------+---------------+--------------+----------------+--------------------+--------------+------------+-----+\n",
      "|gender|SeniorCitizen|Partner|Dependents|tenure|PhoneService|   MultipleLines|InternetService|OnlineSecurity|OnlineBackup|DeviceProtection|TechSupport|StreamingTV|StreamingMovies|      Contract|PaperlessBilling|       PaymentMethod|MonthlyCharges|TotalCharges|label|\n",
      "+------+-------------+-------+----------+------+------------+----------------+---------------+--------------+------------+----------------+-----------+-----------+---------------+--------------+----------------+--------------------+--------------+------------+-----+\n",
      "|Female|            0|    Yes|        No|     1|          No|No phone service|            DSL|            No|         Yes|              No|         No|         No|             No|Month-to-month|             Yes|    Electronic check|         29.85|       29.85|    0|\n",
      "|  Male|            0|     No|        No|    34|         Yes|              No|            DSL|           Yes|          No|             Yes|         No|         No|             No|      One year|              No|        Mailed check|         56.95|      1889.5|    0|\n",
      "|  Male|            0|     No|        No|     2|         Yes|              No|            DSL|           Yes|         Yes|              No|         No|         No|             No|Month-to-month|             Yes|        Mailed check|         53.85|      108.15|    1|\n",
      "|  Male|            0|     No|        No|    45|          No|No phone service|            DSL|           Yes|          No|             Yes|        Yes|         No|             No|      One year|              No|Bank transfer (au...|          42.3|     1840.75|    0|\n",
      "|Female|            0|     No|        No|     2|         Yes|              No|    Fiber optic|            No|          No|              No|         No|         No|             No|Month-to-month|             Yes|    Electronic check|          70.7|      151.65|    1|\n",
      "+------+-------------+-------+----------+------+------------+----------------+---------------+--------------+------------+----------------+-----------+-----------+---------------+--------------+----------------+--------------------+--------------+------------+-----+\n",
      "only showing top 5 rows\n",
      "\n"
     ]
    }
   ],
   "source": [
    "df.show(5)"
   ]
  },
  {
   "cell_type": "markdown",
   "metadata": {
    "id": "5Uhl-uwXqxrC"
   },
   "source": [
    "## Feature Engineering + ML Model Training"
   ]
  },
  {
   "cell_type": "code",
   "execution_count": null,
   "metadata": {
    "id": "wUsFVVatO6g6"
   },
   "outputs": [],
   "source": [
    "from pyspark.ml.feature import StringIndexer, VectorAssembler\n",
    "from pyspark.ml.classification import LogisticRegression\n",
    "from pyspark.ml.evaluation import BinaryClassificationEvaluator"
   ]
  },
  {
   "cell_type": "markdown",
   "metadata": {
    "id": "uuzMwHC8tlsb"
   },
   "source": [
    "### Identify categorical columns"
   ]
  },
  {
   "cell_type": "code",
   "execution_count": null,
   "metadata": {
    "id": "EUjn7J7Xtnlq"
   },
   "outputs": [],
   "source": [
    "categorical_cols = [col_name for col_name, dtype in df.dtypes if dtype == 'string']"
   ]
  },
  {
   "cell_type": "markdown",
   "metadata": {
    "id": "_eWqq4ZorbWR"
   },
   "source": [
    "### Index each categorical column"
   ]
  },
  {
   "cell_type": "code",
   "execution_count": null,
   "metadata": {
    "id": "E7ec-LUorYjJ"
   },
   "outputs": [],
   "source": [
    "for col_name in categorical_cols:\n",
    "    indexer = StringIndexer(inputCol=col_name, outputCol=col_name + \"_index\")\n",
    "    df = indexer.fit(df).transform(df)"
   ]
  },
  {
   "cell_type": "markdown",
   "metadata": {
    "id": "VhDTRcYHsS-s"
   },
   "source": [
    "Define input features (numeric + indexed categorical)"
   ]
  },
  {
   "cell_type": "code",
   "execution_count": null,
   "metadata": {
    "id": "6EKABvfurf6A"
   },
   "outputs": [],
   "source": [
    "feature_cols = [col for col in df.columns if col not in categorical_cols + [\"label\"]]"
   ]
  },
  {
   "cell_type": "markdown",
   "metadata": {
    "id": "gVkvjjKYsz4A"
   },
   "source": [
    "### Assemble features into a single vector column"
   ]
  },
  {
   "cell_type": "code",
   "execution_count": null,
   "metadata": {
    "id": "XpeRhjw3sVko"
   },
   "outputs": [],
   "source": [
    "assembler = VectorAssembler(inputCols=feature_cols, outputCol=\"features\")\n",
    "df = assembler.transform(df)"
   ]
  },
  {
   "cell_type": "markdown",
   "metadata": {
    "id": "3EZWKRo5s5VA"
   },
   "source": [
    "### Train-test split"
   ]
  },
  {
   "cell_type": "code",
   "execution_count": null,
   "metadata": {
    "id": "7gFdGn8Ws200"
   },
   "outputs": [],
   "source": [
    "train_df, test_df = df.randomSplit([0.8, 0.2], seed=42)"
   ]
  },
  {
   "cell_type": "markdown",
   "metadata": {
    "id": "7z0o4VlNs_dz"
   },
   "source": [
    "### Train logistic regression model"
   ]
  },
  {
   "cell_type": "code",
   "execution_count": null,
   "metadata": {
    "id": "2e5Hop-Ds9CJ"
   },
   "outputs": [],
   "source": [
    "lr = LogisticRegression(featuresCol=\"features\", labelCol=\"label\")\n",
    "model = lr.fit(train_df)"
   ]
  },
  {
   "cell_type": "markdown",
   "metadata": {
    "id": "elF9wyfXtJPl"
   },
   "source": [
    "### Make predictions"
   ]
  },
  {
   "cell_type": "code",
   "execution_count": null,
   "metadata": {
    "id": "dlCqvB4EtCha"
   },
   "outputs": [],
   "source": [
    "predictions = model.transform(test_df)"
   ]
  },
  {
   "cell_type": "markdown",
   "metadata": {
    "id": "1TtBCV0KtOR_"
   },
   "source": [
    "### Evaluate using AUC(Area Under Curve)"
   ]
  },
  {
   "cell_type": "code",
   "execution_count": 56,
   "metadata": {
    "colab": {
     "base_uri": "https://localhost:8080/"
    },
    "executionInfo": {
     "elapsed": 1109,
     "status": "ok",
     "timestamp": 1746993527038,
     "user": {
      "displayName": "berat uzun",
      "userId": "08837626989305024116"
     },
     "user_tz": -180
    },
    "id": "sVcri1hotMFw",
    "outputId": "67a10653-9150-46bf-acf7-edef48728a6e"
   },
   "outputs": [
    {
     "name": "stdout",
     "output_type": "stream",
     "text": [
      "AUC: 0.8555\n"
     ]
    }
   ],
   "source": [
    "evaluator = BinaryClassificationEvaluator(labelCol=\"label\", metricName=\"areaUnderROC\")\n",
    "# ROC is Receiver Operating Characteristic\n",
    "auc = evaluator.evaluate(predictions)\n",
    "print(f\"AUC: {auc:.4f}\")"
   ]
  }
 ],
 "metadata": {
  "colab": {
   "provenance": []
  },
  "kernelspec": {
   "display_name": "Python 3",
   "name": "python3"
  },
  "language_info": {
   "name": "python"
  }
 },
 "nbformat": 4,
 "nbformat_minor": 0
}
